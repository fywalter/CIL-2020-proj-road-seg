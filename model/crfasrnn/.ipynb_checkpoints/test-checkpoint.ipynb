{
 "cells": [
  {
   "cell_type": "code",
   "execution_count": 1,
   "metadata": {},
   "outputs": [],
   "source": [
    "from __future__ import division\n",
    "import os.path as osp\n",
    "import sys\n",
    "import argparse\n",
    "from tqdm import tqdm\n",
    "import numpy as np\n",
    "\n",
    "import torch\n",
    "import torch.nn as nn\n",
    "import torch.distributed as dist\n",
    "import torch.backends.cudnn as cudnn\n",
    "from torch.nn.modules.batchnorm import BatchNorm2d \n",
    "\n",
    "from config import config\n",
    "from dataloader import get_train_loader\n",
    "from network import CrfRnnNet\n",
    "from datasets import Cil\n",
    "\n",
    "from utils.init_func import init_weight, group_weight\n",
    "from engine.engine import Engine"
   ]
  },
  {
   "cell_type": "raw",
   "metadata": {},
   "source": [
    "######"
   ]
  },
  {
   "cell_type": "code",
   "execution_count": 48,
   "metadata": {},
   "outputs": [],
   "source": [
    "psp_dict = model.psp.state_dict()\n",
    "# psp_dict"
   ]
  },
  {
   "cell_type": "code",
   "execution_count": 49,
   "metadata": {},
   "outputs": [],
   "source": [
    "ptr_dict = torch.load('./PSP_epoch-75.pth',map_location='cpu')['model']\n",
    "ptr_dict = {k: v for k, v in ptr_dict.items() if k in psp_dict}"
   ]
  },
  {
   "cell_type": "code",
   "execution_count": 50,
   "metadata": {},
   "outputs": [
    {
     "data": {
      "text/plain": [
       "<All keys matched successfully>"
      ]
     },
     "execution_count": 50,
     "metadata": {},
     "output_type": "execute_result"
    }
   ],
   "source": [
    "model = CrfRnnNet(2, n_iter=5)\n",
    "model.psp.load_state_dict(ptr_dict)"
   ]
  },
  {
   "cell_type": "code",
   "execution_count": null,
   "metadata": {},
   "outputs": [],
   "source": []
  },
  {
   "cell_type": "raw",
   "metadata": {},
   "source": [
    "######"
   ]
  },
  {
   "cell_type": "code",
   "execution_count": 2,
   "metadata": {},
   "outputs": [],
   "source": [
    "criterion = nn.CrossEntropyLoss(reduction='mean',\n",
    "                                    ignore_index=-1)\n",
    "model = CrfRnnNet(config.num_classes, criterion=criterion,\n",
    "               pretrained_model=config.pretrained_model,\n",
    "               norm_layer=BatchNorm2d)\n",
    "base_lr = config.lr"
   ]
  },
  {
   "cell_type": "code",
   "execution_count": 27,
   "metadata": {},
   "outputs": [],
   "source": [
    "# initialize parameters\n",
    "init_weight(model.psp.business_layer, nn.init.kaiming_normal_,\n",
    "            BatchNorm2d, config.bn_eps, config.bn_momentum,\n",
    "            mode='fan_in', nonlinearity='relu')\n",
    "\n",
    "\n",
    "# group weight initialization on all layers\n",
    "params_list = []\n",
    "params_list = group_weight(params_list, model.psp.backbone,\n",
    "                           BatchNorm2d, base_lr)\n",
    "for module in model.psp.business_layer:\n",
    "    params_list = group_weight(params_list, module, BatchNorm2d,\n",
    "                               base_lr * 10)\n",
    "params_list.append(\n",
    "    dict(params=list(model.crfrnn.parameters()), weight_decay=.0, lr=base_lr))"
   ]
  }
 ],
 "metadata": {
  "kernelspec": {
   "display_name": "Python 3",
   "language": "python",
   "name": "python3"
  },
  "language_info": {
   "codemirror_mode": {
    "name": "ipython",
    "version": 3
   },
   "file_extension": ".py",
   "mimetype": "text/x-python",
   "name": "python",
   "nbconvert_exporter": "python",
   "pygments_lexer": "ipython3",
   "version": "3.7.6"
  }
 },
 "nbformat": 4,
 "nbformat_minor": 4
}
